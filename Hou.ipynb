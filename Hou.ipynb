{
 "cells": [
  {
   "cell_type": "markdown",
   "metadata": {},
   "source": [
    "# 1. 导入第三方包"
   ]
  },
  {
   "cell_type": "code",
   "execution_count": 13,
   "metadata": {},
   "outputs": [
    {
     "ename": "ERROR",
     "evalue": "Error in library(readxr): there is no package called 'readxr'\n",
     "output_type": "error",
     "traceback": [
      "Error in library(readxr): there is no package called 'readxr'\nTraceback:\n",
      "1. library(readxr)",
      "2. stop(txt, domain = NA)"
     ]
    }
   ],
   "source": [
    "library(readxr)\n",
    "library(aod)\n",
    "library(ggplot2)\n",
    "library(stargazer)"
   ]
  },
  {
   "cell_type": "markdown",
   "metadata": {},
   "source": [
    "# 2. 导入数据集"
   ]
  },
  {
   "cell_type": "code",
   "execution_count": 12,
   "metadata": {},
   "outputs": [
    {
     "ename": "ERROR",
     "evalue": "Error in read_excel(\"C:/Users/narut/Desktop/hou/Hou/data.xlsx\"): 没有\"read_excel\"这个函数\n",
     "output_type": "error",
     "traceback": [
      "Error in read_excel(\"C:/Users/narut/Desktop/hou/Hou/data.xlsx\"): 没有\"read_excel\"这个函数\nTraceback:\n"
     ]
    }
   ],
   "source": [
    "mydata <- read_excel(\"C:/Users/narut/Desktop/hou/Hou/data.xlsx\")"
   ]
  },
  {
   "cell_type": "markdown",
   "metadata": {},
   "source": [
    "# 3. 查看数据集基本信息"
   ]
  },
  {
   "cell_type": "code",
   "execution_count": 14,
   "metadata": {},
   "outputs": [
    {
     "ename": "ERROR",
     "evalue": "Error in head(mydata): 找不到对象'mydata'\n",
     "output_type": "error",
     "traceback": [
      "Error in head(mydata): 找不到对象'mydata'\nTraceback:\n",
      "1. head(mydata)"
     ]
    }
   ],
   "source": [
    "head(mydata)\n",
    "summary(mydata)"
   ]
  },
  {
   "cell_type": "markdown",
   "metadata": {},
   "source": [
    "# 4. 描述性统计"
   ]
  },
  {
   "cell_type": "code",
   "execution_count": 15,
   "metadata": {},
   "outputs": [],
   "source": [
    "#相关系数分析表"
   ]
  },
  {
   "cell_type": "markdown",
   "metadata": {},
   "source": [
    "# 5. Probit回归"
   ]
  },
  {
   "cell_type": "code",
   "execution_count": 16,
   "metadata": {},
   "outputs": [
    {
     "ename": "ERROR",
     "evalue": "Error in is.data.frame(data): 找不到对象'mydata'\n",
     "output_type": "error",
     "traceback": [
      "Error in is.data.frame(data): 找不到对象'mydata'\nTraceback:\n",
      "1. glm(vc ~ tmtage + ceo_director + size + tmtsize + registered_capital + \n .     asset + roe, family = binomial(link = \"probit\"), data = mydata)",
      "2. eval(mf, parent.frame())",
      "3. eval(mf, parent.frame())",
      "4. stats::model.frame(formula = vc ~ tmtage + ceo_director + size + \n .     tmtsize + registered_capital + asset + roe, data = mydata, \n .     drop.unused.levels = TRUE)",
      "5. model.frame.default(formula = vc ~ tmtage + ceo_director + size + \n .     tmtsize + registered_capital + asset + roe, data = mydata, \n .     drop.unused.levels = TRUE)",
      "6. is.data.frame(data)"
     ]
    }
   ],
   "source": [
    "myprobit1 <- glm(vc~tmtage+ceo_director+size+tmtsize+registered_capital+asset+roe,family= binomial(link=\"probit\"),data= mydata)\n",
    "myprobit2 <- glm(vc~tmtedu+ceo_director+size+tmtsize+registered_capital+asset+roe,family= binomial(link=\"probit\"),data= mydata)\n"
   ]
  },
  {
   "cell_type": "markdown",
   "metadata": {},
   "source": [
    "# 6. 回归结果"
   ]
  },
  {
   "cell_type": "code",
   "execution_count": 17,
   "metadata": {},
   "outputs": [
    {
     "ename": "ERROR",
     "evalue": "Error in .stargazer.wrap(..., type = type, title = title, style = style, : 找不到对象'myprobit1'\n",
     "output_type": "error",
     "traceback": [
      "Error in .stargazer.wrap(..., type = type, title = title, style = style, : 找不到对象'myprobit1'\nTraceback:\n",
      "1. stargazer(myprobit1, myprobit2, type = \"text\")",
      "2. .stargazer.wrap(..., type = type, title = title, style = style, \n .     summary = summary, out = out, out.header = out.header, column.labels = column.labels, \n .     column.separate = column.separate, covariate.labels = covariate.labels, \n .     dep.var.caption = dep.var.caption, dep.var.labels = dep.var.labels, \n .     dep.var.labels.include = dep.var.labels.include, align = align, \n .     coef = coef, se = se, t = t, p = p, t.auto = t.auto, p.auto = p.auto, \n .     ci = ci, ci.custom = ci.custom, ci.level = ci.level, ci.separator = ci.separator, \n .     add.lines = add.lines, apply.coef = apply.coef, apply.se = apply.se, \n .     apply.t = apply.t, apply.p = apply.p, apply.ci = apply.ci, \n .     colnames = colnames, column.sep.width = column.sep.width, \n .     decimal.mark = decimal.mark, df = df, digit.separate = digit.separate, \n .     digit.separator = digit.separator, digits = digits, digits.extra = digits.extra, \n .     flip = flip, float = float, float.env = float.env, font.size = font.size, \n .     header = header, initial.zero = initial.zero, intercept.bottom = intercept.bottom, \n .     intercept.top = intercept.top, keep = keep, keep.stat = keep.stat, \n .     label = label, model.names = model.names, model.numbers = model.numbers, \n .     multicolumn = multicolumn, no.space = no.space, notes = notes, \n .     notes.align = notes.align, notes.append = notes.append, notes.label = notes.label, \n .     object.names = object.names, omit = omit, omit.labels = omit.labels, \n .     omit.stat = omit.stat, omit.summary.stat = omit.summary.stat, \n .     omit.table.layout = omit.table.layout, omit.yes.no = omit.yes.no, \n .     order = order, ord.intercepts = ord.intercepts, perl = perl, \n .     report = report, rownames = rownames, rq.se = rq.se, selection.equation = selection.equation, \n .     single.row = single.row, star.char = star.char, star.cutoffs = star.cutoffs, \n .     suppress.errors = suppress.errors, table.layout = table.layout, \n .     table.placement = table.placement, zero.component = zero.component, \n .     summary.logical = summary.logical, summary.stat = summary.stat, \n .     nobs = nobs, mean.sd = mean.sd, min.max = min.max, median = median, \n .     iqr = iqr, warn = save.warn.option)"
     ]
    }
   ],
   "source": [
    "stargazer(myprobit1,myprobit2,type=\"text\")"
   ]
  },
  {
   "cell_type": "code",
   "execution_count": null,
   "metadata": {},
   "outputs": [],
   "source": []
  }
 ],
 "metadata": {
  "kernelspec": {
   "display_name": "R",
   "language": "R",
   "name": "ir"
  },
  "language_info": {
   "codemirror_mode": "r",
   "file_extension": ".r",
   "mimetype": "text/x-r-source",
   "name": "R",
   "pygments_lexer": "r",
   "version": "3.5.0"
  }
 },
 "nbformat": 4,
 "nbformat_minor": 2
}
