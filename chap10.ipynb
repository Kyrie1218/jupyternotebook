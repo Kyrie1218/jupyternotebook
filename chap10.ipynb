{
 "cells": [
  {
   "cell_type": "markdown",
   "metadata": {},
   "source": [
    "# 第十章 时间序列数据的基本回归"
   ]
  },
  {
   "cell_type": "markdown",
   "metadata": {},
   "source": [
    "## 0. 概览\n",
    "时间序列数据区别于横截面数据的一个明显特点：时间序列数据集是按照时间顺序排列的；本文档具体安排如下：\n",
    "1. 静态时间序列模型（static time series models)\n",
    "2. 利用R处理时间序列数据的技术性细节（technical details in R）\n",
    "3. 其他时间序列模型（other models）\n",
    "    - 动态（dynamic）\n",
    "    - 趋势（trend）\n",
    "    - 季节（seasonal）"
   ]
  },
  {
   "cell_type": "code",
   "execution_count": 27,
   "metadata": {},
   "outputs": [],
   "source": [
    "#本文档使用wooldridge，2013，Introductory Econometrics: A modern Approach中的数据\n",
    "library(wooldridge)"
   ]
  },
  {
   "cell_type": "markdown",
   "metadata": {},
   "source": [
    "## 1. 静态时间序列模型"
   ]
  },
  {
   "cell_type": "markdown",
   "metadata": {},
   "source": [
    "### 以通货膨胀和赤字对利率的影响为例\n",
    "**思路：**\n",
    "时间序列静态模型等同于横截面数据的分析，因此，使用横截面中的总体多元回归模型:\n",
    "$$i3_{t}=\\beta_{0}+\\beta_{1}inf_{t}+\\beta_{2}def_{t}+u$$\n",
    "对应的样本多元回归方程：\n",
    "$$\\widehat{i3_{t}}=\\widehat{\\beta_{0}}+\\widehat{\\beta_{1}}inf_{t}+\\widehat{\\beta_{2}}def_{t}$$\n"
   ]
  },
  {
   "cell_type": "code",
   "execution_count": 28,
   "metadata": {},
   "outputs": [
    {
     "data": {
      "text/plain": [
       "\n",
       "Call:\n",
       "lm(formula = i3 ~ inf + def, data = intdef)\n",
       "\n",
       "Residuals:\n",
       "    Min      1Q  Median      3Q     Max \n",
       "-3.9948 -1.1694  0.1959  0.9602  4.7224 \n",
       "\n",
       "Coefficients:\n",
       "            Estimate Std. Error t value Pr(>|t|)    \n",
       "(Intercept)  1.73327    0.43197   4.012  0.00019 ***\n",
       "inf          0.60587    0.08213   7.376 1.12e-09 ***\n",
       "def          0.51306    0.11838   4.334 6.57e-05 ***\n",
       "---\n",
       "Signif. codes:  0 '***' 0.001 '**' 0.01 '*' 0.05 '.' 0.1 ' ' 1\n",
       "\n",
       "Residual standard error: 1.843 on 53 degrees of freedom\n",
       "Multiple R-squared:  0.6021,\tAdjusted R-squared:  0.5871 \n",
       "F-statistic: 40.09 on 2 and 53 DF,  p-value: 2.483e-11\n"
      ]
     },
     "metadata": {},
     "output_type": "display_data"
    }
   ],
   "source": [
    "#使用wooldridge包中intdef数据集\n",
    "StaticModel<-lm(i3~inf+def,data=intdef)\n",
    "summary(StaticModel)"
   ]
  },
  {
   "cell_type": "markdown",
   "metadata": {},
   "source": [
    "**解释**：\n",
    "1. 整体模型拟合程度：$R^{2}$=0.6021,调整$R^{2}$=0.5871,该模型可以解释i3变量60%的波动；\n",
    "2. 单个系数统计显著性：$\\widehat{\\beta_{1}}$,$\\widehat{\\beta_{2}}$在显著性水平为0.01水平下显著\n",
    "3. 单个系数经济显著性：def,inf>0知，赤字和通货膨胀对利率的影响为正向效应，它们的影响与经济学原理一致；$\\widehat{\\beta_{1}}=0.60587$其他条件不变的情况下，通货膨胀上升1%，i3提高0.60587点,$\\widehat{\\beta_{2}}=0.51306$其他条件不变的情况下，赤字上升1%，i3提高0.51306点"
   ]
  },
  {
   "cell_type": "markdown",
   "metadata": {},
   "source": [
    "# 2. 时间序列数据类型（in R）"
   ]
  },
  {
   "cell_type": "markdown",
   "metadata": {},
   "source": [
    "时间序列常常涉及到各种计算，如滞后项（lags）、趋势项（trend）和季节效应（seasonal effects），因此我们必须显示定义它的数据结构（data structure）。按照时间的间隔程度，时间序列分为两类：\n",
    "- 规范的（regular）：在某一固定时间间隔上收集的时间序列数据\n",
    "- 非规范的（irregular）：不在同一时间间隔上收集的时间序列数据\n"
   ]
  },
  {
   "cell_type": "code",
   "execution_count": 29,
   "metadata": {},
   "outputs": [
    {
     "data": {
      "text/plain": [
       "Time Series:\n",
       "Start = 1948 \n",
       "End = 2003 \n",
       "Frequency = 1 \n",
       " [1]  1.04  1.10  1.22  1.55  1.77  1.93  0.95  1.75  2.66  3.27  1.84  3.41\n",
       "[13]  2.93  2.38  2.78  3.16  3.55  3.95  4.88  4.32  5.34  6.68  6.46  4.35\n",
       "[25]  4.07  7.04  7.89  5.84  4.99  5.27  7.22 10.04 11.51 14.03 10.69  8.63\n",
       "[37]  9.58  7.48  5.98  5.82  6.69  8.12  7.51  5.42  3.45  3.02  4.29  5.51\n",
       "[49]  5.02  5.07  4.81  4.66  5.85  3.45  1.62  1.02"
      ]
     },
     "metadata": {},
     "output_type": "display_data"
    },
    {
     "data": {
      "image/png": "[encoded data removed]",
      "text/plain": [
       "plot without title"
      ]
     },
     "metadata": {},
     "output_type": "display_data"
    }
   ],
   "source": [
    "#ts函数用于定义规范的时间序列intdef中的i3\n",
    "RegularTimeSeries<-ts(intdef$i3,start=1948,end=2003,frequency=1)\n",
    "RegularTimeSeries#查看该序列原始数据\n",
    "plot(RegularTimeSeries)#看出时间序列折线图查看该序列基本特征，如平稳性"
   ]
  },
  {
   "cell_type": "markdown",
   "metadata": {},
   "source": [
    "**解释：**\n",
    "时间序列折线图可以查看该序列的基本特征"
   ]
  },
  {
   "cell_type": "code",
   "execution_count": null,
   "metadata": {},
   "outputs": [],
   "source": [
    "#zoo包中的zoo函数可同时用于规范和非规范时间序列的定义，原理是根据变量定义时间序列\n",
    "library(zoo)\n",
    "IrregularTimeSeries<-zoo(intdef$i3,order.by=intdef$year)\n",
    "plot(IrregularTimeSeries)"
   ]
  },
  {
   "cell_type": "markdown",
   "metadata": {},
   "source": [
    "**解释：**\n",
    "zoo函数定义时间序列的方式是把数据集中的时间变量与序列值相联系，可用于规范和非规范序列"
   ]
  },
  {
   "cell_type": "markdown",
   "metadata": {},
   "source": [
    "金融应用中，往往需要获取在线的金融时间序列数据，R中的pdfetch可以满足一定的要求"
   ]
  },
  {
   "cell_type": "code",
   "execution_count": null,
   "metadata": {},
   "outputs": [],
   "source": [
    "#使用pdfetch_YAHOO函数获取Yahoo财经的数据\n",
    "library(pdfetch)\n",
    "tickernames=c(\"^gspc\",\"^ixic\",\"AAPL\")\n",
    "yahoo<-pdfetch_YAHOO(tickernames,fields=\"adjclose\",from=\"2016-01-01\",to=\"2018-01-01\")"
   ]
  },
  {
   "cell_type": "code",
   "execution_count": null,
   "metadata": {},
   "outputs": [],
   "source": [
    "plot(yahoo$AAPL)"
   ]
  },
  {
   "cell_type": "code",
   "execution_count": null,
   "metadata": {},
   "outputs": [],
   "source": [
    "head(yahoo)\n",
    "tail(yahoo)"
   ]
  },
  {
   "cell_type": "markdown",
   "metadata": {},
   "source": [
    "# 3. 其他时间序列模型"
   ]
  },
  {
   "cell_type": "markdown",
   "metadata": {},
   "source": [
    "lm包处理静态回归模型，dynlm包可处理动态回归，其中包括滞后算子，差分算子，趋势算子，季节算子\n"
   ]
  },
  {
   "cell_type": "code",
   "execution_count": 49,
   "metadata": {},
   "outputs": [],
   "source": [
    "library(dynlm)\n"
   ]
  },
  {
   "cell_type": "markdown",
   "metadata": {},
   "source": [
    "以个人税收豁免对生育率的影响为例"
   ]
  },
  {
   "cell_type": "code",
   "execution_count": 41,
   "metadata": {},
   "outputs": [],
   "source": [
    "#有限分布滞后模型\n",
    "Fertil3TS<-ts(fertil3,start=1913)"
   ]
  },
  {
   "cell_type": "code",
   "execution_count": 44,
   "metadata": {},
   "outputs": [],
   "source": [
    "res1<-dynlm(gfr~pe+L(pe,1)+L(pe,2)+ww2+pill,data=Fertil3TS)\n",
    "res2<-dynlm(gfr~pe+L(pe,1)+L(pe,2)+ww2+pill+trend(Fertil3TS),data=Fertil3TS)"
   ]
  },
  {
   "cell_type": "code",
   "execution_count": 37,
   "metadata": {},
   "outputs": [],
   "source": [
    "library(stargazer)\n",
    "library(lmtest)"
   ]
  },
  {
   "cell_type": "code",
   "execution_count": 51,
   "metadata": {},
   "outputs": [
    {
     "name": "stdout",
     "output_type": "stream",
     "text": [
      "\n",
      "=================================================================\n",
      "                                 Dependent variable:             \n",
      "                    ---------------------------------------------\n",
      "                                         gfr                     \n",
      "                             (1)                    (2)          \n",
      "-----------------------------------------------------------------\n",
      "pe                          0.073                  0.193*        \n",
      "                           (0.126)                (0.105)        \n",
      "                                                                 \n",
      "L(pe, 1)                    -0.006                 -0.041        \n",
      "                           (0.156)                (0.127)        \n",
      "                                                                 \n",
      "L(pe, 2)                    0.034                  0.128         \n",
      "                           (0.126)                (0.105)        \n",
      "                                                                 \n",
      "ww2                       -22.126**              -26.445***      \n",
      "                           (10.732)               (8.805)        \n",
      "                                                                 \n",
      "pill                      -31.305***               -0.377        \n",
      "                           (3.982)                (6.307)        \n",
      "                                                                 \n",
      "trend(Fertil3TS)                                 -1.106***       \n",
      "                                                  (0.193)        \n",
      "                                                                 \n",
      "Constant                  95.870***              109.678***      \n",
      "                           (3.282)                (3.608)        \n",
      "                                                                 \n",
      "-----------------------------------------------------------------\n",
      "Observations                  70                     70          \n",
      "R2                          0.499                  0.670         \n",
      "Adjusted R2                 0.459                  0.639         \n",
      "Residual Std. Error    14.270 (df = 64)       11.665 (df = 63)   \n",
      "F Statistic         12.728*** (df = 5; 64) 21.335*** (df = 6; 63)\n",
      "=================================================================\n",
      "Note:                                 *p<0.1; **p<0.05; ***p<0.01\n"
     ]
    }
   ],
   "source": [
    "stargazer(res1,res2,type=\"text\")"
   ]
  },
  {
   "cell_type": "code",
   "execution_count": 52,
   "metadata": {},
   "outputs": [
    {
     "data": {
      "text/plain": [
       "\n",
       "t test of coefficients:\n",
       "\n",
       "               Estimate  Std. Error t value  Pr(>|t|)    \n",
       "(Intercept)  95.8704975   3.2819571 29.2114 < 2.2e-16 ***\n",
       "pe            0.0726718   0.1255331  0.5789    0.5647    \n",
       "L(pe, 1)     -0.0057796   0.1556629 -0.0371    0.9705    \n",
       "L(pe, 2)      0.0338268   0.1262574  0.2679    0.7896    \n",
       "ww2         -22.1264975  10.7319716 -2.0617    0.0433 *  \n",
       "pill        -31.3049888   3.9815591 -7.8625 5.634e-11 ***\n",
       "---\n",
       "Signif. codes:  0 '***' 0.001 '**' 0.01 '*' 0.05 '.' 0.1 ' ' 1\n"
      ]
     },
     "metadata": {},
     "output_type": "display_data"
    }
   ],
   "source": [
    "coeftest(res1)"
   ]
  },
  {
   "cell_type": "code",
   "execution_count": 47,
   "metadata": {},
   "outputs": [],
   "source": [
    "res3<-dynlm(d(gfr)~d(pe),data=Fertil3TS)"
   ]
  },
  {
   "cell_type": "code",
   "execution_count": 48,
   "metadata": {},
   "outputs": [
    {
     "name": "stdout",
     "output_type": "stream",
     "text": [
      "\n",
      "===============================================\n",
      "                        Dependent variable:    \n",
      "                    ---------------------------\n",
      "                              d(gfr)           \n",
      "-----------------------------------------------\n",
      "d(pe)                         -0.043           \n",
      "                              (0.028)          \n",
      "                                               \n",
      "Constant                      -0.785           \n",
      "                              (0.502)          \n",
      "                                               \n",
      "-----------------------------------------------\n",
      "Observations                    71             \n",
      "R2                             0.032           \n",
      "Adjusted R2                    0.018           \n",
      "Residual Std. Error       4.221 (df = 69)      \n",
      "F Statistic             2.263 (df = 1; 69)     \n",
      "===============================================\n",
      "Note:               *p<0.1; **p<0.05; ***p<0.01\n"
     ]
    }
   ],
   "source": [
    "stargazer(res3,type=\"text\")"
   ]
  },
  {
   "cell_type": "code",
   "execution_count": null,
   "metadata": {},
   "outputs": [],
   "source": []
  }
 ],
 "metadata": {
  "kernelspec": {
   "display_name": "R",
   "language": "R",
   "name": "ir"
  },
  "language_info": {
   "codemirror_mode": "r",
   "file_extension": ".r",
   "mimetype": "text/x-r-source",
   "name": "R",
   "pygments_lexer": "r",
   "version": "3.5.0"
  }
 },
 "nbformat": 4,
 "nbformat_minor": 2
}
